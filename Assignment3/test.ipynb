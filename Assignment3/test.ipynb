{
 "metadata": {
  "language_info": {
   "codemirror_mode": {
    "name": "ipython",
    "version": 3
   },
   "file_extension": ".py",
   "mimetype": "text/x-python",
   "name": "python",
   "nbconvert_exporter": "python",
   "pygments_lexer": "ipython3",
   "version": "3.7.6"
  },
  "orig_nbformat": 2,
  "kernelspec": {
   "name": "python37664bittensorflowconda789fb1f6bc5e4117bd77a83dcb86735d",
   "display_name": "Python 3.7.6 64-bit ('tensorflow': conda)"
  },
  "metadata": {
   "interpreter": {
    "hash": "9ec957caba7ae6ccc97a7fb0804bf14cbdb1f70a4904cd45a06dd27fe16a3b19"
   }
  }
 },
 "nbformat": 4,
 "nbformat_minor": 2,
 "cells": [
  {
   "cell_type": "code",
   "execution_count": 1,
   "metadata": {},
   "outputs": [
    {
     "output_type": "stream",
     "name": "stderr",
     "text": [
      "Using TensorFlow backend.\n"
     ]
    }
   ],
   "source": [
    "import numpy as np\n",
    "import matplotlib.pyplot as plt\n",
    "import utilis as u\n",
    "import importlib\n",
    "import model as m "
   ]
  },
  {
   "cell_type": "code",
   "execution_count": 2,
   "metadata": {},
   "outputs": [],
   "source": [
    "importlib.reload(u)\n",
    "filename = '/data_batch_1'\n",
    "X_train, y_train,Y_train = u.load_data(filename, reshape=False, clipping=True)\n",
    "meanX = np.mean(X_train,axis=1)\n",
    "stdX = np.std(X_train,axis=1)\n",
    "X_train = (X_train-meanX.reshape((len(meanX),1)))/stdX.reshape((len(stdX),1))\n",
    "\n",
    "filename = '/data_batch_2'\n",
    "X_val, y_val,Y_val = u.load_data(filename, reshape=False, clipping=True)\n",
    "X_val = (X_val-meanX.reshape((len(meanX),1)))/stdX.reshape((len(stdX),1))\n",
    "\n",
    "filename = '/test_batch'\n",
    "X_test, y_test,Y_test = u.load_data(filename, reshape=False, clipping=True)\n",
    "X_test = (X_test-meanX.reshape((len(meanX),1)))/stdX.reshape((len(stdX),1))\n",
    "\n",
    "data = {'X_train':X_train, 'Y_train':Y_train, 'y_train':y_train,'X_val':X_val, 'Y_val':Y_val, 'y_val':y_val, 'X_test':X_test, 'Y_test':Y_test, 'y_test':y_test}"
   ]
  },
  {
   "cell_type": "code",
   "execution_count": 4,
   "metadata": {},
   "outputs": [],
   "source": [
    "importlib.reload(m)\n",
    "mlp = m.MLP(lambda_=1e-3, dimensions=[100,60,30,10])\n",
    "P = mlp.forward_batchnorm(X_train[:100,:1])\n",
    "mlp.compute_gradients_batchnorm(X_train[:100,:1], Y_train[:,:1],P)"
   ]
  },
  {
   "cell_type": "code",
   "execution_count": 6,
   "metadata": {},
   "outputs": [
    {
     "output_type": "stream",
     "name": "stderr",
     "text": [
      "c:\\Users\\User\\Desktop\\KTH\\DeepL\\Assignments\\DD2424\\Assignment3\\model.py:395: RuntimeWarning: overflow encountered in exp\n",
      "  return np.exp(x) / np.sum(np.exp(x), axis=0)\n",
      "c:\\Users\\User\\Desktop\\KTH\\DeepL\\Assignments\\DD2424\\Assignment3\\model.py:395: RuntimeWarning: invalid value encountered in true_divide\n",
      "  return np.exp(x) / np.sum(np.exp(x), axis=0)\n",
      "c:\\Users\\User\\Desktop\\KTH\\DeepL\\Assignments\\DD2424\\Assignment3\\model.py:282: RuntimeWarning: divide by zero encountered in log\n",
      "  loss = np.log(np.sum(np.multiply(Y, P), axis=0))\n",
      "c:\\Users\\User\\Desktop\\KTH\\DeepL\\Assignments\\DD2424\\Assignment3\\model.py:251: RuntimeWarning: invalid value encountered in double_scalars\n",
      "  x-y)/max(eps, np.abs(x)+np.abs(y))\n"
     ]
    },
    {
     "output_type": "execute_result",
     "data": {
      "text/plain": [
       "([nan, 0.018743102890363968, 0.3594731358935327],\n",
       " [nan, 0.001397938315586272, 0.007661178802746979],\n",
       " [nan, nan, 0.06790534220538545],\n",
       " [nan, inf, 0.015114754047131826],\n",
       " [0.05, 0.4, 0.0],\n",
       " [0.003175776998783538, 0.012334067300094157, 0.0],\n",
       " [nan, 1.0, 0.0],\n",
       " [nan, 91806.83507554296, 0.0])"
      ]
     },
     "metadata": {},
     "execution_count": 6
    }
   ],
   "source": [
    "mlp.compare_gradients(X_train[:100,:1], Y_train[:,:1])"
   ]
  },
  {
   "cell_type": "code",
   "execution_count": 29,
   "metadata": {},
   "outputs": [],
   "source": [
    "importlib.reload(m)\n",
    "X_train_whole, y_train_whole, Y_train_whole = u.load_data('/data_batch_1', clipping=True)\n",
    "for i in range(2,6):\n",
    "    X, y, Y = u.load_data('/data_batch_'+str(i), clipping=True)\n",
    "    X_train_whole = np.concatenate((X, X_train_whole), axis=1)\n",
    "    y_train_whole = np.concatenate((y, y_train_whole))\n",
    "    Y_train_whole = np.concatenate((Y, Y_train_whole), axis=1)\n",
    "\n",
    "X_val_small, y_val_small, Y_val_small = X_train_whole[:,-5000:], y_train_whole[-5000:], Y_train_whole[:,-5000:]\n",
    "X_train_whole, y_train_whole, Y_train_whole = X_train_whole[:,:-5000], y_train_whole[:-5000], Y_train_whole[:,:-5000]\n",
    "\n",
    "filename = '/test_batch'\n",
    "X_test_45, y_test,Y_test = u.load_data(filename, reshape=False, clipping=True)\n",
    "\n",
    "## normalize with mean and std of train set \n",
    "mean = np.mean(X_train_whole, axis=1)\n",
    "std = np.std(X_train_whole, axis=1)\n",
    "\n",
    "X_train_whole -= np.outer(mean, np.ones(X_train_whole.shape[1]))\n",
    "X_train_whole /= np.outer(std, np.ones(X_train_whole.shape[1]))\n",
    "\n",
    "X_val_small -= np.outer(mean, np.ones(X_val_small.shape[1]))\n",
    "X_val_small /= np.outer(std, np.ones(X_val_small.shape[1]))\n",
    "\n",
    "X_test_45 -= np.outer(mean, np.ones(X_test_45.shape[1]))\n",
    "X_test_45 /= np.outer(std, np.ones(X_test_45.shape[1]))\n",
    "\n",
    "\n",
    "data_45 = {'X_train':X_train_whole, 'Y_train':Y_train_whole, 'y_train':y_train_whole,'X_val':X_val_small, 'Y_val':Y_val_small, 'y_val':y_val_small, 'X_test':X_test_45, 'Y_test':Y_test,'y_test':y_test}"
   ]
  },
  {
   "cell_type": "code",
   "execution_count": 9,
   "metadata": {},
   "outputs": [
    {
     "output_type": "stream",
     "name": "stderr",
     "text": [
      "  0%|          | 0/20 [00:00<?, ?it/s]\t Epoch 0: train_cost = 5.201089870307861, val_cost = 5.2280705972086565,  \n",
      " \t train_acc = 0.11042222222222223, val_acc = 0.1086\n",
      "  5%|▌         | 1/20 [00:27<08:44, 27.63s/it]\t Epoch 450.0: train_cost = 3.7245324214041045, val_cost = 3.7518304247159655,  \n",
      " \t train_acc = 0.3791555555555556, val_acc = 0.3708\n",
      " 10%|█         | 2/20 [00:48<07:42, 25.72s/it]\t Epoch 900.0: train_cost = 3.099891058672682, val_cost = 3.137977343950205,  \n",
      " \t train_acc = 0.44195555555555555, val_acc = 0.4234\n",
      " 15%|█▌        | 3/20 [01:10<06:55, 24.43s/it]\t Epoch 1350.0: train_cost = 2.5052712120845184, val_cost = 2.560406984299418,  \n",
      " \t train_acc = 0.4729777777777778, val_acc = 0.4498\n",
      " 20%|██        | 4/20 [01:30<06:12, 23.28s/it]\t Epoch 1800.0: train_cost = 2.0455966309091123, val_cost = 2.0981465387421565,  \n",
      " \t train_acc = 0.48444444444444446, val_acc = 0.4656\n",
      " 25%|██▌       | 5/20 [01:51<05:37, 22.52s/it]\t Epoch 2250.0: train_cost = 1.756463074691134, val_cost = 1.8248267124985627,  \n",
      " \t train_acc = 0.49644444444444447, val_acc = 0.4696\n",
      " 30%|███       | 6/20 [02:12<05:06, 21.88s/it]\t Epoch 2700.0: train_cost = 1.6094432890513122, val_cost = 1.6785019850515908,  \n",
      " \t train_acc = 0.5121777777777777, val_acc = 0.485\n",
      " 35%|███▌      | 7/20 [02:32<04:38, 21.46s/it]\t Epoch 3150.0: train_cost = 1.5494627546036732, val_cost = 1.6439497178293843,  \n",
      " \t train_acc = 0.5176666666666667, val_acc = 0.4824\n",
      " 40%|████      | 8/20 [02:53<04:17, 21.44s/it]\t Epoch 3600.0: train_cost = 1.4542094900605487, val_cost = 1.5637492145639036,  \n",
      " \t train_acc = 0.5458222222222222, val_acc = 0.502\n",
      " 45%|████▌     | 9/20 [03:14<03:54, 21.32s/it]\t Epoch 4050.0: train_cost = 1.3903282576877394, val_cost = 1.5380206426700926,  \n",
      " \t train_acc = 0.5685111111111111, val_acc = 0.5046\n",
      " 50%|█████     | 10/20 [03:37<03:36, 21.62s/it]\t Epoch 0.0: train_cost = 1.313026092623695, val_cost = 1.4897534096112144,  \n",
      " \t train_acc = 0.5933777777777778, val_acc = 0.5216\n",
      " 55%|█████▌    | 11/20 [03:58<03:12, 21.38s/it]\t Epoch 450.0: train_cost = 1.3600879545720872, val_cost = 1.543782324541638,  \n",
      " \t train_acc = 0.5716666666666667, val_acc = 0.5016\n",
      " 60%|██████    | 12/20 [04:19<02:50, 21.27s/it]\t Epoch 900.0: train_cost = 1.43145885406987, val_cost = 1.5648235938345765,  \n",
      " \t train_acc = 0.5457777777777778, val_acc = 0.4888\n",
      " 65%|██████▌   | 13/20 [04:39<02:26, 20.89s/it]\t Epoch 1350.0: train_cost = 1.4784332854325168, val_cost = 1.6011203710718191,  \n",
      " \t train_acc = 0.5327111111111111, val_acc = 0.4916\n",
      " 70%|███████   | 14/20 [04:58<02:02, 20.38s/it]\t Epoch 1800.0: train_cost = 1.4775153783018502, val_cost = 1.5835159112412351,  \n",
      " \t train_acc = 0.5350444444444444, val_acc = 0.4928\n",
      " 75%|███████▌  | 15/20 [05:17<01:39, 19.96s/it]\t Epoch 2250.0: train_cost = 1.5316130886365324, val_cost = 1.643026915318656,  \n",
      " \t train_acc = 0.5166, val_acc = 0.4748\n",
      " 80%|████████  | 16/20 [05:37<01:19, 19.96s/it]\t Epoch 2700.0: train_cost = 1.4979678780825987, val_cost = 1.6077656725033231,  \n",
      " \t train_acc = 0.5296888888888889, val_acc = 0.4866\n",
      " 85%|████████▌ | 17/20 [05:56<00:59, 19.69s/it]\t Epoch 3150.0: train_cost = 1.451433556091596, val_cost = 1.5818803337016059,  \n",
      " \t train_acc = 0.5452, val_acc = 0.4912\n",
      " 90%|█████████ | 18/20 [06:17<00:40, 20.18s/it]\t Epoch 3600.0: train_cost = 1.3751354170389825, val_cost = 1.522850416031139,  \n",
      " \t train_acc = 0.5713555555555555, val_acc = 0.5144\n",
      " 95%|█████████▌| 19/20 [06:37<00:20, 20.00s/it]\t Epoch 4050.0: train_cost = 1.3133780596299354, val_cost = 1.496699051739098,  \n",
      " \t train_acc = 0.5888222222222222, val_acc = 0.5216\n",
      "100%|██████████| 20/20 [06:56<00:00, 20.82s/it]\n"
     ]
    }
   ],
   "source": [
    "importlib.reload(m)\n",
    "mlp = m.MLP(lambda_=5e-3, dimensions=[3072,50,50,10])\n",
    "ns = 5*45000/100\n",
    "GD_params = {\"n_batch\":100, \"eta_min\":1e-5, 'eta_max':1e-1, 'ns':ns, 'n_cycles':2, 'freq':10}\n",
    "model = mlp.cyclicLearning(data_45, GD_params,True, 'test_batchnorm', True, False)"
   ]
  },
  {
   "cell_type": "code",
   "execution_count": 15,
   "metadata": {},
   "outputs": [
    {
     "output_type": "execute_result",
     "data": {
      "text/plain": [
       "[<matplotlib.lines.Line2D at 0x1f0001b7d88>]"
      ]
     },
     "metadata": {},
     "execution_count": 15
    },
    {
     "output_type": "display_data",
     "data": {
      "text/plain": "<Figure size 432x288 with 1 Axes>",
      "image/svg+xml": "<?xml version=\"1.0\" encoding=\"utf-8\" standalone=\"no\"?>\r\n<!DOCTYPE svg PUBLIC \"-//W3C//DTD SVG 1.1//EN\"\r\n  \"http://www.w3.org/Graphics/SVG/1.1/DTD/svg11.dtd\">\r\n<!-- Created with matplotlib (https://matplotlib.org/) -->\r\n<svg height=\"248.518125pt\" version=\"1.1\" viewBox=\"0 0 372.103125 248.518125\" width=\"372.103125pt\" xmlns=\"http://www.w3.org/2000/svg\" xmlns:xlink=\"http://www.w3.org/1999/xlink\">\r\n <defs>\r\n  <style type=\"text/css\">\r\n*{stroke-linecap:butt;stroke-linejoin:round;}\r\n  </style>\r\n </defs>\r\n <g id=\"figure_1\">\r\n  <g id=\"patch_1\">\r\n   <path d=\"M 0 248.518125 \r\nL 372.103125 248.518125 \r\nL 372.103125 0 \r\nL 0 0 \r\nz\r\n\" style=\"fill:none;\"/>\r\n  </g>\r\n  <g id=\"axes_1\">\r\n   <g id=\"patch_2\">\r\n    <path d=\"M 30.103125 224.64 \r\nL 364.903125 224.64 \r\nL 364.903125 7.2 \r\nL 30.103125 7.2 \r\nz\r\n\" style=\"fill:#ffffff;\"/>\r\n   </g>\r\n   <g id=\"matplotlib.axis_1\">\r\n    <g id=\"xtick_1\">\r\n     <g id=\"line2d_1\">\r\n      <defs>\r\n       <path d=\"M 0 0 \r\nL 0 3.5 \r\n\" id=\"m9d1d29d2b4\" style=\"stroke:#000000;stroke-width:0.8;\"/>\r\n      </defs>\r\n      <g>\r\n       <use style=\"stroke:#000000;stroke-width:0.8;\" x=\"45.321307\" xlink:href=\"#m9d1d29d2b4\" y=\"224.64\"/>\r\n      </g>\r\n     </g>\r\n     <g id=\"text_1\">\r\n      <!-- 0.0 -->\r\n      <defs>\r\n       <path d=\"M 31.78125 66.40625 \r\nQ 24.171875 66.40625 20.328125 58.90625 \r\nQ 16.5 51.421875 16.5 36.375 \r\nQ 16.5 21.390625 20.328125 13.890625 \r\nQ 24.171875 6.390625 31.78125 6.390625 \r\nQ 39.453125 6.390625 43.28125 13.890625 \r\nQ 47.125 21.390625 47.125 36.375 \r\nQ 47.125 51.421875 43.28125 58.90625 \r\nQ 39.453125 66.40625 31.78125 66.40625 \r\nz\r\nM 31.78125 74.21875 \r\nQ 44.046875 74.21875 50.515625 64.515625 \r\nQ 56.984375 54.828125 56.984375 36.375 \r\nQ 56.984375 17.96875 50.515625 8.265625 \r\nQ 44.046875 -1.421875 31.78125 -1.421875 \r\nQ 19.53125 -1.421875 13.0625 8.265625 \r\nQ 6.59375 17.96875 6.59375 36.375 \r\nQ 6.59375 54.828125 13.0625 64.515625 \r\nQ 19.53125 74.21875 31.78125 74.21875 \r\nz\r\n\" id=\"DejaVuSans-48\"/>\r\n       <path d=\"M 10.6875 12.40625 \r\nL 21 12.40625 \r\nL 21 0 \r\nL 10.6875 0 \r\nz\r\n\" id=\"DejaVuSans-46\"/>\r\n      </defs>\r\n      <g transform=\"translate(37.369744 239.238437)scale(0.1 -0.1)\">\r\n       <use xlink:href=\"#DejaVuSans-48\"/>\r\n       <use x=\"63.623047\" xlink:href=\"#DejaVuSans-46\"/>\r\n       <use x=\"95.410156\" xlink:href=\"#DejaVuSans-48\"/>\r\n      </g>\r\n     </g>\r\n    </g>\r\n    <g id=\"xtick_2\">\r\n     <g id=\"line2d_2\">\r\n      <g>\r\n       <use style=\"stroke:#000000;stroke-width:0.8;\" x=\"85.369154\" xlink:href=\"#m9d1d29d2b4\" y=\"224.64\"/>\r\n      </g>\r\n     </g>\r\n     <g id=\"text_2\">\r\n      <!-- 2.5 -->\r\n      <defs>\r\n       <path d=\"M 19.1875 8.296875 \r\nL 53.609375 8.296875 \r\nL 53.609375 0 \r\nL 7.328125 0 \r\nL 7.328125 8.296875 \r\nQ 12.9375 14.109375 22.625 23.890625 \r\nQ 32.328125 33.6875 34.8125 36.53125 \r\nQ 39.546875 41.84375 41.421875 45.53125 \r\nQ 43.3125 49.21875 43.3125 52.78125 \r\nQ 43.3125 58.59375 39.234375 62.25 \r\nQ 35.15625 65.921875 28.609375 65.921875 \r\nQ 23.96875 65.921875 18.8125 64.3125 \r\nQ 13.671875 62.703125 7.8125 59.421875 \r\nL 7.8125 69.390625 \r\nQ 13.765625 71.78125 18.9375 73 \r\nQ 24.125 74.21875 28.421875 74.21875 \r\nQ 39.75 74.21875 46.484375 68.546875 \r\nQ 53.21875 62.890625 53.21875 53.421875 \r\nQ 53.21875 48.921875 51.53125 44.890625 \r\nQ 49.859375 40.875 45.40625 35.40625 \r\nQ 44.1875 33.984375 37.640625 27.21875 \r\nQ 31.109375 20.453125 19.1875 8.296875 \r\nz\r\n\" id=\"DejaVuSans-50\"/>\r\n       <path d=\"M 10.796875 72.90625 \r\nL 49.515625 72.90625 \r\nL 49.515625 64.59375 \r\nL 19.828125 64.59375 \r\nL 19.828125 46.734375 \r\nQ 21.96875 47.46875 24.109375 47.828125 \r\nQ 26.265625 48.1875 28.421875 48.1875 \r\nQ 40.625 48.1875 47.75 41.5 \r\nQ 54.890625 34.8125 54.890625 23.390625 \r\nQ 54.890625 11.625 47.5625 5.09375 \r\nQ 40.234375 -1.421875 26.90625 -1.421875 \r\nQ 22.3125 -1.421875 17.546875 -0.640625 \r\nQ 12.796875 0.140625 7.71875 1.703125 \r\nL 7.71875 11.625 \r\nQ 12.109375 9.234375 16.796875 8.0625 \r\nQ 21.484375 6.890625 26.703125 6.890625 \r\nQ 35.15625 6.890625 40.078125 11.328125 \r\nQ 45.015625 15.765625 45.015625 23.390625 \r\nQ 45.015625 31 40.078125 35.4375 \r\nQ 35.15625 39.890625 26.703125 39.890625 \r\nQ 22.75 39.890625 18.8125 39.015625 \r\nQ 14.890625 38.140625 10.796875 36.28125 \r\nz\r\n\" id=\"DejaVuSans-53\"/>\r\n      </defs>\r\n      <g transform=\"translate(77.417591 239.238437)scale(0.1 -0.1)\">\r\n       <use xlink:href=\"#DejaVuSans-50\"/>\r\n       <use x=\"63.623047\" xlink:href=\"#DejaVuSans-46\"/>\r\n       <use x=\"95.410156\" xlink:href=\"#DejaVuSans-53\"/>\r\n      </g>\r\n     </g>\r\n    </g>\r\n    <g id=\"xtick_3\">\r\n     <g id=\"line2d_3\">\r\n      <g>\r\n       <use style=\"stroke:#000000;stroke-width:0.8;\" x=\"125.417001\" xlink:href=\"#m9d1d29d2b4\" y=\"224.64\"/>\r\n      </g>\r\n     </g>\r\n     <g id=\"text_3\">\r\n      <!-- 5.0 -->\r\n      <g transform=\"translate(117.465438 239.238437)scale(0.1 -0.1)\">\r\n       <use xlink:href=\"#DejaVuSans-53\"/>\r\n       <use x=\"63.623047\" xlink:href=\"#DejaVuSans-46\"/>\r\n       <use x=\"95.410156\" xlink:href=\"#DejaVuSans-48\"/>\r\n      </g>\r\n     </g>\r\n    </g>\r\n    <g id=\"xtick_4\">\r\n     <g id=\"line2d_4\">\r\n      <g>\r\n       <use style=\"stroke:#000000;stroke-width:0.8;\" x=\"165.464847\" xlink:href=\"#m9d1d29d2b4\" y=\"224.64\"/>\r\n      </g>\r\n     </g>\r\n     <g id=\"text_4\">\r\n      <!-- 7.5 -->\r\n      <defs>\r\n       <path d=\"M 8.203125 72.90625 \r\nL 55.078125 72.90625 \r\nL 55.078125 68.703125 \r\nL 28.609375 0 \r\nL 18.3125 0 \r\nL 43.21875 64.59375 \r\nL 8.203125 64.59375 \r\nz\r\n\" id=\"DejaVuSans-55\"/>\r\n      </defs>\r\n      <g transform=\"translate(157.513285 239.238437)scale(0.1 -0.1)\">\r\n       <use xlink:href=\"#DejaVuSans-55\"/>\r\n       <use x=\"63.623047\" xlink:href=\"#DejaVuSans-46\"/>\r\n       <use x=\"95.410156\" xlink:href=\"#DejaVuSans-53\"/>\r\n      </g>\r\n     </g>\r\n    </g>\r\n    <g id=\"xtick_5\">\r\n     <g id=\"line2d_5\">\r\n      <g>\r\n       <use style=\"stroke:#000000;stroke-width:0.8;\" x=\"205.512694\" xlink:href=\"#m9d1d29d2b4\" y=\"224.64\"/>\r\n      </g>\r\n     </g>\r\n     <g id=\"text_5\">\r\n      <!-- 10.0 -->\r\n      <defs>\r\n       <path d=\"M 12.40625 8.296875 \r\nL 28.515625 8.296875 \r\nL 28.515625 63.921875 \r\nL 10.984375 60.40625 \r\nL 10.984375 69.390625 \r\nL 28.421875 72.90625 \r\nL 38.28125 72.90625 \r\nL 38.28125 8.296875 \r\nL 54.390625 8.296875 \r\nL 54.390625 0 \r\nL 12.40625 0 \r\nz\r\n\" id=\"DejaVuSans-49\"/>\r\n      </defs>\r\n      <g transform=\"translate(194.379882 239.238437)scale(0.1 -0.1)\">\r\n       <use xlink:href=\"#DejaVuSans-49\"/>\r\n       <use x=\"63.623047\" xlink:href=\"#DejaVuSans-48\"/>\r\n       <use x=\"127.246094\" xlink:href=\"#DejaVuSans-46\"/>\r\n       <use x=\"159.033203\" xlink:href=\"#DejaVuSans-48\"/>\r\n      </g>\r\n     </g>\r\n    </g>\r\n    <g id=\"xtick_6\">\r\n     <g id=\"line2d_6\">\r\n      <g>\r\n       <use style=\"stroke:#000000;stroke-width:0.8;\" x=\"245.560541\" xlink:href=\"#m9d1d29d2b4\" y=\"224.64\"/>\r\n      </g>\r\n     </g>\r\n     <g id=\"text_6\">\r\n      <!-- 12.5 -->\r\n      <g transform=\"translate(234.427729 239.238437)scale(0.1 -0.1)\">\r\n       <use xlink:href=\"#DejaVuSans-49\"/>\r\n       <use x=\"63.623047\" xlink:href=\"#DejaVuSans-50\"/>\r\n       <use x=\"127.246094\" xlink:href=\"#DejaVuSans-46\"/>\r\n       <use x=\"159.033203\" xlink:href=\"#DejaVuSans-53\"/>\r\n      </g>\r\n     </g>\r\n    </g>\r\n    <g id=\"xtick_7\">\r\n     <g id=\"line2d_7\">\r\n      <g>\r\n       <use style=\"stroke:#000000;stroke-width:0.8;\" x=\"285.608388\" xlink:href=\"#m9d1d29d2b4\" y=\"224.64\"/>\r\n      </g>\r\n     </g>\r\n     <g id=\"text_7\">\r\n      <!-- 15.0 -->\r\n      <g transform=\"translate(274.475576 239.238437)scale(0.1 -0.1)\">\r\n       <use xlink:href=\"#DejaVuSans-49\"/>\r\n       <use x=\"63.623047\" xlink:href=\"#DejaVuSans-53\"/>\r\n       <use x=\"127.246094\" xlink:href=\"#DejaVuSans-46\"/>\r\n       <use x=\"159.033203\" xlink:href=\"#DejaVuSans-48\"/>\r\n      </g>\r\n     </g>\r\n    </g>\r\n    <g id=\"xtick_8\">\r\n     <g id=\"line2d_8\">\r\n      <g>\r\n       <use style=\"stroke:#000000;stroke-width:0.8;\" x=\"325.656235\" xlink:href=\"#m9d1d29d2b4\" y=\"224.64\"/>\r\n      </g>\r\n     </g>\r\n     <g id=\"text_8\">\r\n      <!-- 17.5 -->\r\n      <g transform=\"translate(314.523423 239.238437)scale(0.1 -0.1)\">\r\n       <use xlink:href=\"#DejaVuSans-49\"/>\r\n       <use x=\"63.623047\" xlink:href=\"#DejaVuSans-55\"/>\r\n       <use x=\"127.246094\" xlink:href=\"#DejaVuSans-46\"/>\r\n       <use x=\"159.033203\" xlink:href=\"#DejaVuSans-53\"/>\r\n      </g>\r\n     </g>\r\n    </g>\r\n   </g>\r\n   <g id=\"matplotlib.axis_2\">\r\n    <g id=\"ytick_1\">\r\n     <g id=\"line2d_9\">\r\n      <defs>\r\n       <path d=\"M 0 0 \r\nL -3.5 0 \r\n\" id=\"m05c9efac6e\" style=\"stroke:#000000;stroke-width:0.8;\"/>\r\n      </defs>\r\n      <g>\r\n       <use style=\"stroke:#000000;stroke-width:0.8;\" x=\"30.103125\" xlink:href=\"#m05c9efac6e\" y=\"205.250439\"/>\r\n      </g>\r\n     </g>\r\n     <g id=\"text_9\">\r\n      <!-- 1.5 -->\r\n      <g transform=\"translate(7.2 209.049658)scale(0.1 -0.1)\">\r\n       <use xlink:href=\"#DejaVuSans-49\"/>\r\n       <use x=\"63.623047\" xlink:href=\"#DejaVuSans-46\"/>\r\n       <use x=\"95.410156\" xlink:href=\"#DejaVuSans-53\"/>\r\n      </g>\r\n     </g>\r\n    </g>\r\n    <g id=\"ytick_2\">\r\n     <g id=\"line2d_10\">\r\n      <g>\r\n       <use style=\"stroke:#000000;stroke-width:0.8;\" x=\"30.103125\" xlink:href=\"#m05c9efac6e\" y=\"179.82998\"/>\r\n      </g>\r\n     </g>\r\n     <g id=\"text_10\">\r\n      <!-- 2.0 -->\r\n      <g transform=\"translate(7.2 183.629199)scale(0.1 -0.1)\">\r\n       <use xlink:href=\"#DejaVuSans-50\"/>\r\n       <use x=\"63.623047\" xlink:href=\"#DejaVuSans-46\"/>\r\n       <use x=\"95.410156\" xlink:href=\"#DejaVuSans-48\"/>\r\n      </g>\r\n     </g>\r\n    </g>\r\n    <g id=\"ytick_3\">\r\n     <g id=\"line2d_11\">\r\n      <g>\r\n       <use style=\"stroke:#000000;stroke-width:0.8;\" x=\"30.103125\" xlink:href=\"#m05c9efac6e\" y=\"154.409522\"/>\r\n      </g>\r\n     </g>\r\n     <g id=\"text_11\">\r\n      <!-- 2.5 -->\r\n      <g transform=\"translate(7.2 158.208741)scale(0.1 -0.1)\">\r\n       <use xlink:href=\"#DejaVuSans-50\"/>\r\n       <use x=\"63.623047\" xlink:href=\"#DejaVuSans-46\"/>\r\n       <use x=\"95.410156\" xlink:href=\"#DejaVuSans-53\"/>\r\n      </g>\r\n     </g>\r\n    </g>\r\n    <g id=\"ytick_4\">\r\n     <g id=\"line2d_12\">\r\n      <g>\r\n       <use style=\"stroke:#000000;stroke-width:0.8;\" x=\"30.103125\" xlink:href=\"#m05c9efac6e\" y=\"128.989063\"/>\r\n      </g>\r\n     </g>\r\n     <g id=\"text_12\">\r\n      <!-- 3.0 -->\r\n      <defs>\r\n       <path d=\"M 40.578125 39.3125 \r\nQ 47.65625 37.796875 51.625 33 \r\nQ 55.609375 28.21875 55.609375 21.1875 \r\nQ 55.609375 10.40625 48.1875 4.484375 \r\nQ 40.765625 -1.421875 27.09375 -1.421875 \r\nQ 22.515625 -1.421875 17.65625 -0.515625 \r\nQ 12.796875 0.390625 7.625 2.203125 \r\nL 7.625 11.71875 \r\nQ 11.71875 9.328125 16.59375 8.109375 \r\nQ 21.484375 6.890625 26.8125 6.890625 \r\nQ 36.078125 6.890625 40.9375 10.546875 \r\nQ 45.796875 14.203125 45.796875 21.1875 \r\nQ 45.796875 27.640625 41.28125 31.265625 \r\nQ 36.765625 34.90625 28.71875 34.90625 \r\nL 20.21875 34.90625 \r\nL 20.21875 43.015625 \r\nL 29.109375 43.015625 \r\nQ 36.375 43.015625 40.234375 45.921875 \r\nQ 44.09375 48.828125 44.09375 54.296875 \r\nQ 44.09375 59.90625 40.109375 62.90625 \r\nQ 36.140625 65.921875 28.71875 65.921875 \r\nQ 24.65625 65.921875 20.015625 65.03125 \r\nQ 15.375 64.15625 9.8125 62.3125 \r\nL 9.8125 71.09375 \r\nQ 15.4375 72.65625 20.34375 73.4375 \r\nQ 25.25 74.21875 29.59375 74.21875 \r\nQ 40.828125 74.21875 47.359375 69.109375 \r\nQ 53.90625 64.015625 53.90625 55.328125 \r\nQ 53.90625 49.265625 50.4375 45.09375 \r\nQ 46.96875 40.921875 40.578125 39.3125 \r\nz\r\n\" id=\"DejaVuSans-51\"/>\r\n      </defs>\r\n      <g transform=\"translate(7.2 132.788282)scale(0.1 -0.1)\">\r\n       <use xlink:href=\"#DejaVuSans-51\"/>\r\n       <use x=\"63.623047\" xlink:href=\"#DejaVuSans-46\"/>\r\n       <use x=\"95.410156\" xlink:href=\"#DejaVuSans-48\"/>\r\n      </g>\r\n     </g>\r\n    </g>\r\n    <g id=\"ytick_5\">\r\n     <g id=\"line2d_13\">\r\n      <g>\r\n       <use style=\"stroke:#000000;stroke-width:0.8;\" x=\"30.103125\" xlink:href=\"#m05c9efac6e\" y=\"103.568605\"/>\r\n      </g>\r\n     </g>\r\n     <g id=\"text_13\">\r\n      <!-- 3.5 -->\r\n      <g transform=\"translate(7.2 107.367824)scale(0.1 -0.1)\">\r\n       <use xlink:href=\"#DejaVuSans-51\"/>\r\n       <use x=\"63.623047\" xlink:href=\"#DejaVuSans-46\"/>\r\n       <use x=\"95.410156\" xlink:href=\"#DejaVuSans-53\"/>\r\n      </g>\r\n     </g>\r\n    </g>\r\n    <g id=\"ytick_6\">\r\n     <g id=\"line2d_14\">\r\n      <g>\r\n       <use style=\"stroke:#000000;stroke-width:0.8;\" x=\"30.103125\" xlink:href=\"#m05c9efac6e\" y=\"78.148147\"/>\r\n      </g>\r\n     </g>\r\n     <g id=\"text_14\">\r\n      <!-- 4.0 -->\r\n      <defs>\r\n       <path d=\"M 37.796875 64.3125 \r\nL 12.890625 25.390625 \r\nL 37.796875 25.390625 \r\nz\r\nM 35.203125 72.90625 \r\nL 47.609375 72.90625 \r\nL 47.609375 25.390625 \r\nL 58.015625 25.390625 \r\nL 58.015625 17.1875 \r\nL 47.609375 17.1875 \r\nL 47.609375 0 \r\nL 37.796875 0 \r\nL 37.796875 17.1875 \r\nL 4.890625 17.1875 \r\nL 4.890625 26.703125 \r\nz\r\n\" id=\"DejaVuSans-52\"/>\r\n      </defs>\r\n      <g transform=\"translate(7.2 81.947365)scale(0.1 -0.1)\">\r\n       <use xlink:href=\"#DejaVuSans-52\"/>\r\n       <use x=\"63.623047\" xlink:href=\"#DejaVuSans-46\"/>\r\n       <use x=\"95.410156\" xlink:href=\"#DejaVuSans-48\"/>\r\n      </g>\r\n     </g>\r\n    </g>\r\n    <g id=\"ytick_7\">\r\n     <g id=\"line2d_15\">\r\n      <g>\r\n       <use style=\"stroke:#000000;stroke-width:0.8;\" x=\"30.103125\" xlink:href=\"#m05c9efac6e\" y=\"52.727688\"/>\r\n      </g>\r\n     </g>\r\n     <g id=\"text_15\">\r\n      <!-- 4.5 -->\r\n      <g transform=\"translate(7.2 56.526907)scale(0.1 -0.1)\">\r\n       <use xlink:href=\"#DejaVuSans-52\"/>\r\n       <use x=\"63.623047\" xlink:href=\"#DejaVuSans-46\"/>\r\n       <use x=\"95.410156\" xlink:href=\"#DejaVuSans-53\"/>\r\n      </g>\r\n     </g>\r\n    </g>\r\n    <g id=\"ytick_8\">\r\n     <g id=\"line2d_16\">\r\n      <g>\r\n       <use style=\"stroke:#000000;stroke-width:0.8;\" x=\"30.103125\" xlink:href=\"#m05c9efac6e\" y=\"27.30723\"/>\r\n      </g>\r\n     </g>\r\n     <g id=\"text_16\">\r\n      <!-- 5.0 -->\r\n      <g transform=\"translate(7.2 31.106448)scale(0.1 -0.1)\">\r\n       <use xlink:href=\"#DejaVuSans-53\"/>\r\n       <use x=\"63.623047\" xlink:href=\"#DejaVuSans-46\"/>\r\n       <use x=\"95.410156\" xlink:href=\"#DejaVuSans-48\"/>\r\n      </g>\r\n     </g>\r\n    </g>\r\n   </g>\r\n   <g id=\"line2d_17\">\r\n    <path clip-path=\"url(#p026515dcd5)\" d=\"M 45.321307 17.083636 \r\nL 61.340446 92.153171 \r\nL 77.359584 123.91051 \r\nL 93.378723 154.141529 \r\nL 109.397862 177.511806 \r\nL 125.417001 192.211621 \r\nL 141.436139 199.686242 \r\nL 157.455278 202.735707 \r\nL 173.474417 207.57847 \r\nL 189.493556 210.826251 \r\nL 205.512694 214.756364 \r\nL 221.531833 212.363695 \r\nL 237.550972 208.735133 \r\nL 253.570111 206.34691 \r\nL 269.589249 206.393578 \r\nL 285.608388 203.6432 \r\nL 301.627527 205.353754 \r\nL 317.646666 207.719601 \r\nL 333.665804 211.598669 \r\nL 349.684943 214.738469 \r\n\" style=\"fill:none;stroke:#1f77b4;stroke-linecap:square;stroke-width:1.5;\"/>\r\n   </g>\r\n   <g id=\"patch_3\">\r\n    <path d=\"M 30.103125 224.64 \r\nL 30.103125 7.2 \r\n\" style=\"fill:none;stroke:#000000;stroke-linecap:square;stroke-linejoin:miter;stroke-width:0.8;\"/>\r\n   </g>\r\n   <g id=\"patch_4\">\r\n    <path d=\"M 364.903125 224.64 \r\nL 364.903125 7.2 \r\n\" style=\"fill:none;stroke:#000000;stroke-linecap:square;stroke-linejoin:miter;stroke-width:0.8;\"/>\r\n   </g>\r\n   <g id=\"patch_5\">\r\n    <path d=\"M 30.103125 224.64 \r\nL 364.903125 224.64 \r\n\" style=\"fill:none;stroke:#000000;stroke-linecap:square;stroke-linejoin:miter;stroke-width:0.8;\"/>\r\n   </g>\r\n   <g id=\"patch_6\">\r\n    <path d=\"M 30.103125 7.2 \r\nL 364.903125 7.2 \r\n\" style=\"fill:none;stroke:#000000;stroke-linecap:square;stroke-linejoin:miter;stroke-width:0.8;\"/>\r\n   </g>\r\n  </g>\r\n </g>\r\n <defs>\r\n  <clipPath id=\"p026515dcd5\">\r\n   <rect height=\"217.44\" width=\"334.8\" x=\"30.103125\" y=\"7.2\"/>\r\n  </clipPath>\r\n </defs>\r\n</svg>\r\n",
      "image/png": "[encoded data removed]"
     },
     "metadata": {
      "needs_background": "light"
     }
    }
   ],
   "source": [
    "plt.plot(model['train_cost'])"
   ]
  },
  {
   "cell_type": "code",
   "execution_count": 16,
   "metadata": {},
   "outputs": [
    {
     "output_type": "stream",
     "name": "stderr",
     "text": [
      "  0%|          | 0/20 [00:00<?, ?it/s]\t Epoch 0: train_cost = 5.706759282871987, val_cost = 5.715375046531115,  \n",
      " \t train_acc = 0.09077777777777778, val_acc = 0.0872\n",
      "  5%|▌         | 1/20 [00:35<11:13, 35.45s/it]\t Epoch 450.0: train_cost = 3.7744359560538108, val_cost = 3.7964874310183823,  \n",
      " \t train_acc = 0.36948888888888887, val_acc = 0.3632\n",
      " 10%|█         | 2/20 [00:59<09:39, 32.17s/it]\t Epoch 900.0: train_cost = 3.1451112160543104, val_cost = 3.1835175849482438,  \n",
      " \t train_acc = 0.4338666666666667, val_acc = 0.414\n",
      " 15%|█▌        | 3/20 [01:24<08:26, 29.81s/it]\t Epoch 1350.0: train_cost = 2.541083942608556, val_cost = 2.5965665700384264,  \n",
      " \t train_acc = 0.46244444444444444, val_acc = 0.438\n",
      " 20%|██        | 4/20 [01:48<07:29, 28.06s/it]\t Epoch 1800.0: train_cost = 2.0478677940685346, val_cost = 2.1074833559056785,  \n",
      " \t train_acc = 0.49166666666666664, val_acc = 0.4636\n",
      " 25%|██▌       | 5/20 [02:13<06:47, 27.16s/it]\t Epoch 2250.0: train_cost = 1.7615066991658845, val_cost = 1.8328538064626416,  \n",
      " \t train_acc = 0.4955333333333333, val_acc = 0.4642\n",
      " 30%|███       | 6/20 [02:39<06:17, 26.94s/it]\t Epoch 2700.0: train_cost = 1.610162067051902, val_cost = 1.6804593293762746,  \n",
      " \t train_acc = 0.5138888888888888, val_acc = 0.4828\n",
      " 35%|███▌      | 7/20 [03:03<05:38, 26.04s/it]\t Epoch 3150.0: train_cost = 1.5504526542290755, val_cost = 1.6449453969311847,  \n",
      " \t train_acc = 0.5107777777777778, val_acc = 0.4766\n",
      " 40%|████      | 8/20 [03:28<05:06, 25.55s/it]\t Epoch 3600.0: train_cost = 1.4573989002768293, val_cost = 1.5702307296428173,  \n",
      " \t train_acc = 0.543, val_acc = 0.5006\n",
      " 45%|████▌     | 9/20 [03:52<04:36, 25.13s/it]\t Epoch 4050.0: train_cost = 1.3766506813047745, val_cost = 1.5213202574516869,  \n",
      " \t train_acc = 0.5704222222222223, val_acc = 0.5116\n",
      " 50%|█████     | 10/20 [04:16<04:08, 24.87s/it]\t Epoch 0.0: train_cost = 1.3121005692360102, val_cost = 1.4857887475088174,  \n",
      " \t train_acc = 0.5932888888888889, val_acc = 0.5228\n",
      " 55%|█████▌    | 11/20 [04:40<03:42, 24.71s/it]\t Epoch 450.0: train_cost = 1.348050706987211, val_cost = 1.5242893020354915,  \n",
      " \t train_acc = 0.5769333333333333, val_acc = 0.5154\n",
      " 60%|██████    | 12/20 [05:05<03:16, 24.55s/it]\t Epoch 900.0: train_cost = 1.4407536266355983, val_cost = 1.5766895075878191,  \n",
      " \t train_acc = 0.5402, val_acc = 0.4894\n",
      " 65%|██████▌   | 13/20 [05:28<02:50, 24.36s/it]\t Epoch 1350.0: train_cost = 1.471163245819622, val_cost = 1.5943979533672796,  \n",
      " \t train_acc = 0.5304222222222222, val_acc = 0.4906\n",
      " 70%|███████   | 14/20 [05:54<02:28, 24.71s/it]\t Epoch 1800.0: train_cost = 1.4827848906867276, val_cost = 1.6033431295275662,  \n",
      " \t train_acc = 0.5283111111111111, val_acc = 0.483\n",
      " 75%|███████▌  | 15/20 [06:18<02:02, 24.52s/it]\t Epoch 2250.0: train_cost = 1.5073988436343557, val_cost = 1.6096692745680576,  \n",
      " \t train_acc = 0.5259555555555555, val_acc = 0.4838\n",
      " 80%|████████  | 16/20 [06:42<01:37, 24.47s/it]\t Epoch 2700.0: train_cost = 1.516673961741673, val_cost = 1.631820159173876,  \n",
      " \t train_acc = 0.5252, val_acc = 0.4826\n",
      " 85%|████████▌ | 17/20 [07:07<01:13, 24.54s/it]\t Epoch 3150.0: train_cost = 1.44217853804342, val_cost = 1.5677907973779748,  \n",
      " \t train_acc = 0.5493333333333333, val_acc = 0.4968\n",
      " 90%|█████████ | 18/20 [07:31<00:48, 24.45s/it]\t Epoch 3600.0: train_cost = 1.3996708681018961, val_cost = 1.5463003902681,  \n",
      " \t train_acc = 0.5598, val_acc = 0.4998\n",
      " 95%|█████████▌| 19/20 [07:56<00:24, 24.46s/it]\t Epoch 4050.0: train_cost = 1.3048824475038858, val_cost = 1.4859711856183582,  \n",
      " \t train_acc = 0.5926666666666667, val_acc = 0.5272\n",
      "100%|██████████| 20/20 [08:20<00:00, 25.01s/it]\n"
     ]
    }
   ],
   "source": [
    "importlib.reload(m)\n",
    "mlp = m.MLP(lambda_=5e-3, dimensions=[3072,50,50,10],seed=64)\n",
    "ns = 5*45000/100\n",
    "GD_params = {\"n_batch\":100, \"eta_min\":1e-5, 'eta_max':1e-1, 'ns':ns, 'n_cycles':2, 'freq':10}\n",
    "model = mlp.cyclicLearning(data_45, GD_params,True, 'test_batchnorm', True, False)"
   ]
  },
  {
   "cell_type": "code",
   "execution_count": 17,
   "metadata": {},
   "outputs": [
    {
     "output_type": "stream",
     "name": "stderr",
     "text": [
      "  0%|          | 0/20 [00:00<?, ?it/s]\t Epoch 0: train_cost = 6.36764418051947, val_cost = 6.389780579189183,  \n",
      " \t train_acc = 0.09304444444444444, val_acc = 0.1034\n",
      "  5%|▌         | 1/20 [00:21<06:53, 21.77s/it]\t Epoch 450.0: train_cost = 4.929016840935146, val_cost = 4.95777375818264,  \n",
      " \t train_acc = 0.2528888888888889, val_acc = 0.2542\n",
      " 10%|█         | 2/20 [00:43<06:33, 21.85s/it]\t Epoch 900.0: train_cost = 4.076046847678839, val_cost = 4.096989141630816,  \n",
      " \t train_acc = 0.3067111111111111, val_acc = 0.2978\n",
      " 15%|█▌        | 3/20 [01:05<06:11, 21.83s/it]\t Epoch 1350.0: train_cost = 3.216972990271608, val_cost = 3.230435750966633,  \n",
      " \t train_acc = 0.3412222222222222, val_acc = 0.3418\n",
      " 20%|██        | 4/20 [01:27<05:49, 21.84s/it]\t Epoch 1800.0: train_cost = 2.53344681167867, val_cost = 2.54537140313385,  \n",
      " \t train_acc = 0.3874888888888889, val_acc = 0.3824\n",
      " 25%|██▌       | 5/20 [01:49<05:29, 21.93s/it]\t Epoch 2250.0: train_cost = 2.0720388249072945, val_cost = 2.1128908085910947,  \n",
      " \t train_acc = 0.4205777777777778, val_acc = 0.3986\n",
      " 30%|███       | 6/20 [02:09<04:59, 21.37s/it]\t Epoch 2700.0: train_cost = 1.848434285438668, val_cost = 1.8809658690356468,  \n",
      " \t train_acc = 0.4407333333333333, val_acc = 0.4226\n",
      " 35%|███▌      | 7/20 [02:30<04:35, 21.16s/it]\t Epoch 3150.0: train_cost = 1.7167210173033793, val_cost = 1.7708078138796346,  \n",
      " \t train_acc = 0.4610888888888889, val_acc = 0.444\n",
      " 40%|████      | 8/20 [02:50<04:09, 20.83s/it]\t Epoch 3600.0: train_cost = 1.6100788845186595, val_cost = 1.6814817232444166,  \n",
      " \t train_acc = 0.49191111111111113, val_acc = 0.4676\n",
      " 45%|████▌     | 9/20 [03:11<03:49, 20.84s/it]\t Epoch 4050.0: train_cost = 1.537916904399406, val_cost = 1.6311157114500099,  \n",
      " \t train_acc = 0.5107555555555555, val_acc = 0.4706\n",
      " 50%|█████     | 10/20 [03:34<03:35, 21.52s/it]\t Epoch 0.0: train_cost = 1.44603904920082, val_cost = 1.5735422156254761,  \n",
      " \t train_acc = 0.5426222222222222, val_acc = 0.4988\n",
      " 55%|█████▌    | 11/20 [03:56<03:15, 21.68s/it]\t Epoch 450.0: train_cost = 1.4925460169615943, val_cost = 1.6323617941811541,  \n",
      " \t train_acc = 0.5247333333333334, val_acc = 0.4744\n",
      " 60%|██████    | 12/20 [04:19<02:57, 22.20s/it]\t Epoch 900.0: train_cost = 1.6593170377223454, val_cost = 1.756372546788539,  \n",
      " \t train_acc = 0.47113333333333335, val_acc = 0.4444\n",
      " 65%|██████▌   | 13/20 [04:41<02:34, 22.06s/it]\t Epoch 1350.0: train_cost = 1.6187260237752223, val_cost = 1.7169486811396013,  \n",
      " \t train_acc = 0.48704444444444445, val_acc = 0.4512\n",
      " 70%|███████   | 14/20 [05:02<02:10, 21.73s/it]\t Epoch 1800.0: train_cost = 1.630123235841697, val_cost = 1.703933473430808,  \n",
      " \t train_acc = 0.4805111111111111, val_acc = 0.4564\n",
      " 75%|███████▌  | 15/20 [05:22<01:45, 21.13s/it]\t Epoch 2250.0: train_cost = 1.6866410908103946, val_cost = 1.747960649863822,  \n",
      " \t train_acc = 0.4687777777777778, val_acc = 0.448\n",
      " 80%|████████  | 16/20 [05:44<01:26, 21.55s/it]\t Epoch 2700.0: train_cost = 1.6397466868783857, val_cost = 1.7277438285855728,  \n",
      " \t train_acc = 0.4792444444444444, val_acc = 0.446\n",
      " 85%|████████▌ | 17/20 [06:06<01:04, 21.59s/it]\t Epoch 3150.0: train_cost = 1.6121887706015283, val_cost = 1.7203168775221767,  \n",
      " \t train_acc = 0.48975555555555556, val_acc = 0.4506\n",
      " 90%|█████████ | 18/20 [06:26<00:42, 21.25s/it]\t Epoch 3600.0: train_cost = 1.5238135187055097, val_cost = 1.638573020604613,  \n",
      " \t train_acc = 0.5174222222222222, val_acc = 0.4778\n",
      " 95%|█████████▌| 19/20 [06:46<00:20, 20.75s/it]\t Epoch 4050.0: train_cost = 1.4041151343106006, val_cost = 1.55001570028815,  \n",
      " \t train_acc = 0.5596666666666666, val_acc = 0.5044\n",
      "100%|██████████| 20/20 [07:06<00:00, 21.33s/it]\n"
     ]
    }
   ],
   "source": [
    "importlib.reload(m)\n",
    "mlp = m.MLP(lambda_=5e-3, dimensions=[3072,50,30,20,20,10,10,10,10])\n",
    "ns = 5*45000/100\n",
    "GD_params = {\"n_batch\":100, \"eta_min\":1e-5, 'eta_max':1e-1, 'ns':ns, 'n_cycles':2, 'freq':10}\n",
    "model = mlp.cyclicLearning(data_45, GD_params,True, 'test_batchnorm', True, False)"
   ]
  },
  {
   "cell_type": "code",
   "execution_count": 19,
   "metadata": {},
   "outputs": [],
   "source": [
    "X_test -= np.outer(mean, np.ones(X_test.shape[1]))\n",
    "X_test /= np.outer(std, np.ones(X_test.shape[1]))"
   ]
  },
  {
   "cell_type": "code",
   "execution_count": 30,
   "metadata": {},
   "outputs": [
    {
     "output_type": "execute_result",
     "data": {
      "text/plain": [
       "0.52"
      ]
     },
     "metadata": {},
     "execution_count": 30
    }
   ],
   "source": [
    "mlp.ComputeAccuracy(data_45['X_test'],data_45['y_test'],True)"
   ]
  },
  {
   "cell_type": "code",
   "execution_count": null,
   "metadata": {},
   "outputs": [],
   "source": []
  }
 ]
}